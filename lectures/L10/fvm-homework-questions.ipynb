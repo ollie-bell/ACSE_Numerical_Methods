{
 "cells": [
  {
   "cell_type": "markdown",
   "metadata": {
    "slideshow": {
     "slide_type": "slide"
    }
   },
   "source": [
    "# ACSE-3 (Numerical Methods) <a class=\"tocSkip\">\n",
    "\n",
    "## Lecture 10: Finite volume methods (FVM) <a class=\"tocSkip\">\n",
    "    \n",
    "### Homework exercises <a class=\"tocSkip\">"
   ]
  },
  {
   "cell_type": "markdown",
   "metadata": {
    "toc": true
   },
   "source": [
    "<h1>Table of Contents<span class=\"tocSkip\"></span></h1>\n",
    "<div class=\"toc\"><ul class=\"toc-item\"><li><span><a href=\"#Homework\" data-toc-modified-id=\"Homework-1\"><span class=\"toc-item-num\">1&nbsp;&nbsp;</span>Homework</a></span><ul class=\"toc-item\"><li><span><a href=\"#Homework---Burgers'-equation-in-conservative-vs-advective-form\" data-toc-modified-id=\"Homework---Burgers'-equation-in-conservative-vs-advective-form-1.1\"><span class=\"toc-item-num\">1.1&nbsp;&nbsp;</span>Homework - Burgers' equation in conservative vs advective form</a></span></li><li><span><a href=\"#Homework---Lax-Friedrichs-for-pure-advection\" data-toc-modified-id=\"Homework---Lax-Friedrichs-for-pure-advection-1.2\"><span class=\"toc-item-num\">1.2&nbsp;&nbsp;</span>Homework - Lax-Friedrichs for pure advection</a></span></li><li><span><a href=\"#Homework---Lax-Wendroff-for-a-general-conservation-law-[$\\star$]\" data-toc-modified-id=\"Homework---Lax-Wendroff-for-a-general-conservation-law-[$\\star$]-1.3\"><span class=\"toc-item-num\">1.3&nbsp;&nbsp;</span>Homework - Lax-Wendroff for a general conservation law [$\\star$]</a></span></li><li><span><a href=\"#Homework---Implement-a-finite-volume-based-upwind-method\" data-toc-modified-id=\"Homework---Implement-a-finite-volume-based-upwind-method-1.4\"><span class=\"toc-item-num\">1.4&nbsp;&nbsp;</span>Homework - Implement a finite volume based upwind method</a></span></li><li><span><a href=\"#Homework---Checking-for-consistency-between-FD-and-FV-implementations-of-LF-in-1D-[$\\star$]\" data-toc-modified-id=\"Homework---Checking-for-consistency-between-FD-and-FV-implementations-of-LF-in-1D-[$\\star$]-1.5\"><span class=\"toc-item-num\">1.5&nbsp;&nbsp;</span>Homework - Checking for consistency between FD and FV implementations of LF in 1D [$\\star$]</a></span></li><li><span><a href=\"#Homework---Compare-FV-based-UW,-LF,-LFF--[$\\star$]\" data-toc-modified-id=\"Homework---Compare-FV-based-UW,-LF,-LFF--[$\\star$]-1.6\"><span class=\"toc-item-num\">1.6&nbsp;&nbsp;</span>Homework - Compare FV based UW, LF, LFF  [$\\star$]</a></span></li></ul></li></ul></div>"
   ]
  },
  {
   "cell_type": "code",
   "execution_count": 1,
   "metadata": {},
   "outputs": [],
   "source": [
    "%precision 3\n",
    "%matplotlib inline\n",
    "import numpy as np\n",
    "import matplotlib.pyplot as plt\n",
    "import scipy.linalg as sl\n",
    "import scipy.sparse as sp\n",
    "import scipy.sparse.linalg as spla\n",
    "# the following allows us to plot triangles indicating convergence order\n",
    "from mpltools import annotation\n",
    "# as we're in 2D we will be doing some 3D plotting\n",
    "from mpl_toolkits.mplot3d import Axes3D\n",
    "# and using some colormaps\n",
    "from matplotlib import cm\n",
    "# and we will create some animations!\n",
    "import matplotlib.animation as animation\n",
    "from IPython.display import HTML\n",
    "from pprint import pprint"
   ]
  },
  {
   "cell_type": "markdown",
   "metadata": {},
   "source": [
    "# Homework\n"
   ]
  },
  {
   "cell_type": "markdown",
   "metadata": {},
   "source": [
    "## Homework - Burgers' equation in conservative vs advective form\n",
    "\n",
    "[NB. the first parts of this question is cut and paste from the lecture].\n",
    "\n",
    "Recall the inviscid form of Burgers' equation\n",
    "\n",
    "$$\\frac{\\partial u}{\\partial t} + u\\frac{\\partial u}{\\partial x} = 0,$$\n",
    "\n",
    "[and recall further that we could only solve this problem in previous lectures if we assumed the viscous form (i.e. added some explicit diffusion), or if we used an upwind rather than a central difference based discretisation].\n",
    "\n",
    "Notice that this problem can also be written as a conservation law $\\,(u_t+f_x=0)\\,$ with \n",
    "\n",
    "$$ f(u) = \\frac{1}{2} u^2. $$\n",
    "\n",
    "In the continuous world (i.e. before we discretise) these two forms are equivalent.  So does it matter which we base our discretisation on?\n",
    "\n",
    "The answer is yes, for certain problems, such as those involving shocks. \n",
    "\n",
    "Let's demonstrate this with an example.\n",
    "\n",
    "Consider Burgers' equation in the unit interval with the initial condition that the solution $u$ is equal to one for $x<0.5$ and $u$ is equal to zero for $x>0.5$.\n",
    "\n",
    "For simplicity let's assume use of forward Euler in time and consider three ways to discretise the spatial derivative term:\n",
    "\n",
    "**Discretisation 1**\n",
    "\n",
    "Building on previous lectures the obvious discretisation for the advective form of the problem is the upwind scheme:\n",
    "\n",
    "$$\\frac{u_i^{n+1} - u_i^{n}}{\\Delta t} + u_i^{n}\\frac{u_i^{n} - u_{i-1}^{n}}{\\Delta x}=0.$$\n",
    "\n",
    "\n",
    "**Discretisation 2**\n",
    "\n",
    "If we instead perform an upwind discretisation of the conservative form of the problem we have\n",
    "\n",
    "$$\\frac{u_i^{n+1} - u_i^{n}}{\\Delta t} + \\frac{\\frac{1}{2}\\left(u_i^{n}\\right)^2 - \\frac{1}{2}\\left(u_{i-1}^{n}\\right)^2}{\\Delta x}=0.$$\n",
    "\n",
    "\n",
    "**Discretisation 3**\n",
    "\n",
    "In this version of the non-conservative based discretisation let's use an average to give is the advective velocity (note for this simple example/flux function, this is actually equivalent to the conservative form)\n",
    "\n",
    "$$\\frac{u_i^{n+1} - u_i^{n}}{\\Delta t} + \\frac{u_i^{n} + u_{i-1}^{n}}{2} \\frac{u_i^{n} - u_{i-1}^{n}}{\\Delta x}=0.$$\n",
    "\n",
    "\n",
    "\n",
    "**Discretisation 4**\n",
    "\n",
    "We could also test a centred scheme while we're here:\n",
    "\n",
    "$$\\frac{u_i^{n+1} - u_i^{n}}{\\Delta t} + u_i^{n}\\frac{u_{i+1}^{n} - u_{i-1}^{n}}{2\\Delta x}=0.$$\n",
    "\n",
    "\n",
    "\n",
    "<br>\n",
    "\n",
    "Implement and compare all of these methods on the problem we considered at the start of the lecture. "
   ]
  },
  {
   "cell_type": "markdown",
   "metadata": {},
   "source": [
    "## Homework - Lax-Friedrichs for pure advection\n",
    "\n",
    "In the lecture we wrote down the Lax-Friedrichs scheme for pure advection in the form\n",
    "\n",
    "$$ u_i^{n+1} = \\frac{1}{2}(u_{i-1}^n + u_{i+1}^n) - \\frac{a \\Delta t}{2 \\Delta x} (u_{i+1}^n - u_{i-1}^n), $$\n",
    "\n",
    "although we then went on to solve the advection-diffusion problem that comes from the modified equation analysis.\n",
    "\n",
    "Write a function to solve L-F in the original form above and verify your implementation against the solver from the lecture.\n",
    "\n",
    "Hint: in the periodic case think about how you can turn the first term ($\\frac{1}{2}(u_{i-1}^n + u_{i+1}^n) $) into a matrix multiplied by the solution vector $c$, and then use this in place of the identity matrix in the amplification factor that appears in the time step update."
   ]
  },
  {
   "cell_type": "markdown",
   "metadata": {},
   "source": [
    "## Homework - Lax-Wendroff for a general conservation law [$\\star$]\n",
    "\n",
    "In the lecture we noted that the Lax-Wendroff scheme for a general conservation law takes the form\n",
    "\n",
    "$$u_i^{n+1} = u_i^n - \\frac{\\Delta t}{2 \\Delta x} \\left( f_{i+1}^n - f_{i-1}^n \\right) + \\frac{(\\Delta t)^2}{2(\\Delta x)^2} \\left( J_{i+1/2}^n (f_{i+1}^n - f_i^n) - J_{i-1/2}^n ( f_i^n - f_{i-1}^n ) \\right),$$\n",
    "\n",
    "where $J_{i\\pm 1/2} = J((x_i+x_{i\\pm 1})/2)$ is the Jacobian evaluated at an intermediate location between grid points, which could be numerically approximated as $J_{i + 1/2} = (J_{i+1} + J_{i})/2$.  \n",
    "\n",
    "Implement this form for this solver and compare your result against the solution we obtained with the solver specialised for the pure adection problem.\n",
    "\n",
    "I.e. assuming a velocity of unity, the flux and Jacobian functions are given by\n",
    "\n",
    "```Python\n",
    "def flux_function(q):\n",
    "    \"\"\" function to return the flux \n",
    "    \"\"\"\n",
    "    return q*np.ones_like(q)\n",
    "\n",
    "def Jacobian_flux(q):\n",
    "    return 1.0*np.ones_like(q)\n",
    "```\n",
    "\n",
    "Note for this implementation we can't in general assume that $f$ is linear and so we can't write our time-stepping update in terms of a simple matrix multiplication.\n",
    "\n",
    "But we can write in vectorised for as something like\n",
    "\n",
    "```Python\n",
    "q[1:-1, n+1] = q[1:-1, n] - (dt / (2.0 * dx)) * ...\n",
    "```\n",
    "and then think about how to deal with the periodic boundaries separately."
   ]
  },
  {
   "cell_type": "markdown",
   "metadata": {},
   "source": [
    "## Homework - Implement a finite volume based upwind method\n",
    "\n",
    "Implement a finite volume based implementation of upwind and compare your result (in the eyeball norm) against the finite difference based implementation from the lecture for pure advection of a Gaussian in a periodic domain."
   ]
  },
  {
   "cell_type": "markdown",
   "metadata": {},
   "source": [
    "## Homework - Checking for consistency between FD and FV implementations of LF in 1D [$\\star$]\n",
    "\n",
    "We have claimed that our finite volume code with the Lax-Friedrichs numerical flux should be equivalent with the results from the finite difference implementation of the Lax-Friedrichs method.\n",
    "\n",
    "Check this in the eye-ball norm for one of our example applications considered in the lecture, e.g. `q_ic = 0.4 * traffic_flow_IC_1(x)`."
   ]
  },
  {
   "cell_type": "markdown",
   "metadata": {},
   "source": [
    "## Homework - Compare FV based UW, LF, LFF  [$\\star$]\n",
    "\n",
    "Compare our FV codes with UW, LF and LFF fluxes for the problem with ```Q_ic = 0.4*traffic_flow_IC_1(x)```\n",
    "\n",
    "What happens when you increase the factor from 0.4 to a value above 0.5?"
   ]
  }
 ],
 "metadata": {
  "celltoolbar": "Slideshow",
  "kernelspec": {
   "display_name": "Python 3",
   "language": "python",
   "name": "python3"
  },
  "language_info": {
   "codemirror_mode": {
    "name": "ipython",
    "version": 3
   },
   "file_extension": ".py",
   "mimetype": "text/x-python",
   "name": "python",
   "nbconvert_exporter": "python",
   "pygments_lexer": "ipython3",
   "version": "3.7.3"
  },
  "latex_envs": {
   "LaTeX_envs_menu_present": true,
   "autoclose": false,
   "autocomplete": true,
   "bibliofile": "biblio.bib",
   "cite_by": "apalike",
   "current_citInitial": 1,
   "eqLabelWithNumbers": true,
   "eqNumInitial": 1,
   "hotkeys": {
    "equation": "Ctrl-E",
    "itemize": "Ctrl-I"
   },
   "labels_anchors": false,
   "latex_user_defs": false,
   "report_style_numbering": false,
   "user_envs_cfg": false
  },
  "toc": {
   "base_numbering": "1",
   "nav_menu": {},
   "number_sections": true,
   "sideBar": true,
   "skip_h1_title": false,
   "title_cell": "Table of Contents",
   "title_sidebar": "Contents",
   "toc_cell": true,
   "toc_position": {},
   "toc_section_display": true,
   "toc_window_display": false
  }
 },
 "nbformat": 4,
 "nbformat_minor": 1
}
