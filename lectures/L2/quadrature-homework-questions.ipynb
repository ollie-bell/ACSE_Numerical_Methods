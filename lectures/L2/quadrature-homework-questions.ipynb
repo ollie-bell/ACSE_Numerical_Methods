{
 "cells": [
  {
   "cell_type": "markdown",
   "metadata": {
    "slideshow": {
     "slide_type": "slide"
    }
   },
   "source": [
    "# ACSE-3 (Numerical Methods) <a class=\"tocSkip\">\n",
    "\n",
    "## Lecture 2: Numerical Integration (or Quadrature) <a class=\"tocSkip\">\n",
    "    \n",
    "###  Homework Exercises - Solutions<a class=\"tocSkip\">"
   ]
  },
  {
   "cell_type": "markdown",
   "metadata": {
    "toc": true
   },
   "source": [
    "<h1>Table of Contents<span class=\"tocSkip\"></span></h1>\n",
    "<div class=\"toc\"><ul class=\"toc-item\"><li><span><a href=\"#Homework\" data-toc-modified-id=\"Homework-1\"><span class=\"toc-item-num\">1&nbsp;&nbsp;</span>Homework</a></span><ul class=\"toc-item\"><li><span><a href=\"#Homework---Implement-the-composite-version-of-the-trapezoidal-rule\" data-toc-modified-id=\"Homework---Implement-the-composite-version-of-the-trapezoidal-rule-1.1\"><span class=\"toc-item-num\">1.1&nbsp;&nbsp;</span>Homework - Implement the composite version of the trapezoidal rule</a></span></li><li><span><a href=\"#Homework---Implement-Weddle's-rule\" data-toc-modified-id=\"Homework---Implement-Weddle's-rule-1.2\"><span class=\"toc-item-num\">1.2&nbsp;&nbsp;</span>Homework - Implement Weddle's rule</a></span></li><li><span><a href=\"#Homework---Midpoint-rule-error-[$\\star$]\" data-toc-modified-id=\"Homework---Midpoint-rule-error-[$\\star$]-1.3\"><span class=\"toc-item-num\">1.3&nbsp;&nbsp;</span>Homework - Midpoint rule error [$\\star$]</a></span></li><li><span><a href=\"#Homework---Derive-Simpson's-rule-as-quadratic-fit-[$\\star$]\" data-toc-modified-id=\"Homework---Derive-Simpson's-rule-as-quadratic-fit-[$\\star$]-1.4\"><span class=\"toc-item-num\">1.4&nbsp;&nbsp;</span>Homework - Derive Simpson's rule as quadratic fit [$\\star$]</a></span></li><li><span><a href=\"#Homework---Open-vs-closed-Newton-Cotes-[$\\star$]\" data-toc-modified-id=\"Homework---Open-vs-closed-Newton-Cotes-[$\\star$]-1.5\"><span class=\"toc-item-num\">1.5&nbsp;&nbsp;</span>Homework - Open vs closed Newton-Cotes [$\\star$]</a></span></li><li><span><a href=\"#Homework---Implement-adaptive-quadrature-[$\\star\\star$]\" data-toc-modified-id=\"Homework---Implement-adaptive-quadrature-[$\\star\\star$]-1.6\"><span class=\"toc-item-num\">1.6&nbsp;&nbsp;</span>Homework - Implement adaptive quadrature [$\\star\\star$]</a></span></li><li><span><a href=\"#Homework---Implement-a-&quot;composite&quot;-version-of-Gauss-Legendre-quadrature-[$\\star\\star$]\" data-toc-modified-id=\"Homework---Implement-a-&quot;composite&quot;-version-of-Gauss-Legendre-quadrature-[$\\star\\star$]-1.7\"><span class=\"toc-item-num\">1.7&nbsp;&nbsp;</span>Homework - Implement a \"composite\" version of Gauss-Legendre quadrature [$\\star\\star$]</a></span></li></ul></li></ul></div>"
   ]
  },
  {
   "cell_type": "code",
   "execution_count": null,
   "metadata": {},
   "outputs": [],
   "source": [
    "%matplotlib inline\n",
    "import numpy as np\n",
    "import matplotlib.pyplot as plt\n",
    "# the following allows us to plot triangles indicating convergence order\n",
    "from mpltools import annotation\n",
    "# we're going to be using some SciPy in-built integration routines\n",
    "import scipy.integrate as si\n",
    "\n",
    "# font sizes for plots\n",
    "plt.rcParams['font.size'] = 12\n",
    "plt.rcParams['font.family'] = 'sans-serif'\n",
    "plt.rcParams['font.sans-serif'] = ['Arial', 'Dejavu Sans']"
   ]
  },
  {
   "cell_type": "markdown",
   "metadata": {},
   "source": [
    "# Homework"
   ]
  },
  {
   "cell_type": "markdown",
   "metadata": {},
   "source": [
    "## Homework - Implement the composite version of the trapezoidal rule\n",
    "\n",
    "In the lecture we implemented the naive version of the trapezoidal rule over multiple subintervals - we noted that this implementation has redundant function evaluations.\n",
    "\n",
    "Implement a composite version based upon the discussion in the lecture which minimises function evaluations and test it against the function `trapezoidal_rule`.\n",
    "\n",
    "Think about how you can make the *verification* of your new code against the one from the Lecture as rigorous as possible."
   ]
  },
  {
   "cell_type": "markdown",
   "metadata": {},
   "source": [
    "## Homework - Implement Weddle's rule\n",
    "\n",
    "As explained in the lecture, we can implement Weddle's rule using appropriate calls to the `simpsons_composite_rule` function.\n",
    "\n",
    "Do this and try to recreate the convergence plot from the lecture:\n",
    "\n",
    "<img src=\"./figures/weddle_convergence.png\" width=500x>\n",
    "\n"
   ]
  },
  {
   "cell_type": "markdown",
   "metadata": {},
   "source": [
    "## Homework - Midpoint rule error [$\\star$]\n",
    "\n",
    "In class we stated that a bound on the midpoint rule's error is given by\n",
    "\n",
    "$$ \\left| E_M^n \\right| \\le \\frac{(b-a)^3}{24n^2}  \\max_{x\\in[a,b]}\\, \\left| f''(x) \\right|. $$\n",
    "\n",
    "And we noted that for midpoint (and all odd order Newton-Cotes rules including Simpson's rule) we gain an order of precision/accuracy over what we might expect, i.e. here this error bound indicates that the method is second-order accurate\n",
    "and integrates linear polynomials exactly.\n",
    "\n",
    "If we follow the error bound derivation we performed in lecture for the Trapezoidal rule, we would progress by\n",
    "taking $N=0$ (as the midpoint rule is fitting a constant, degree zero, function) and using our Lagrange remainder result to estimate the *interpolation error* over the interval $[a,b]$ as:\n",
    "\n",
    "$$R_0(x) = \\left(x - \\frac{1}{2}(a+b)\\right) {f'(c_x)}.$$\n",
    "\n",
    "Our Midpoint rule quadrature error over a single interval $[a,b]$ could then be estimated via\n",
    "\n",
    "\\begin{align*}\n",
    "E_M \\equiv E_0 = I - I_0 \n",
    "&= \\int_{a}^{b} f\\left ( x \\right )\\, dx - \\int_a^b\\,P_0\\left ( x \\right )\\,dx \\\\[5pt]\n",
    "&= \\int_{a}^{b} f\\left ( x \\right ) - P_0\\left ( x \\right ) \\, dx\\\\[5pt] \n",
    "&= \\int_{a}^{b} R_0\\left ( x \\right )\\, dx.\n",
    "\\end{align*}\n",
    "\n",
    "Substitute in the above expression for $R_0(x)$ and demonstrate that this leading order term in the error expansion is indeed zero.\n",
    "\n",
    "Once you've convinced yourself of this take a look at my derivation of the error bound which involves taking the next order term in the Taylor series expansion about the midpoint of an interval."
   ]
  },
  {
   "cell_type": "markdown",
   "metadata": {},
   "source": [
    "## Homework - Derive Simpson's rule as quadratic fit [$\\star$]\n",
    "\n",
    "We stated in the lecture that:\n",
    "\n",
    "Note that an alternate derivation of the same rule involves fitting a *quadratic function* (i.e. $P_2(x)$ rather than the constant and linear approximations already considered) that interpolates the integral at the two end points of the interval, $a$ and $b$, as well as at the midpoint, $c = \\left ( a+b\\right )/2$, and calculating the integral under that polynomial approximation. We'll come back to this idea a bit later.\n",
    "\n",
    "Take a look also at the Newton-Cotes section of the lecture where we derived the Trapezoidal rule with the choice $N=1$. We arrive at Simpson's (1/3) rule if we repeat this process with $N=2$.\n",
    "\n",
    "Do this.\n",
    "\n",
    "**Hint:** Note that following the derivation of the Trapezoidal rule from lectures you will need to evaluate integrals of the form\n",
    "\n",
    "\\begin{align*}\n",
    "A_0 &= \\int_{x_0}^{x_2}\\, \\ell_0(x)\\, dx \\\\[5pt]\n",
    "& = \\frac{1}{(x_0-x_1)(x_0-x_2)}\\int_{x_0}^{x_2}\\, (x-x_1)(x - x_2) \\, dx.\n",
    "\\end{align*}\n",
    "\n",
    "This integral is much easier to do if you introduce the new variable (i.e. a [change of variables](https://en.wikipedia.org/wiki/Integration_by_substitution)) $\\xi$ such that $d\\xi = dx$ and $\\xi=0$ corresponds to $x_1$, $\\xi = -h$ corresponds to $x_0$ and $\\xi = h$ corresponds to $x_2$. Note therefore that the interval size $x_2-x_0 = 2h$. \n",
    "\n",
    "Your integral then becomes\n",
    "\n",
    "\\begin{align*}\n",
    "A_0 & = \\frac{1}{(x_0-x_1)(x_0-x_2)}\\int_{x_0}^{x_2}\\, (x-x_1)(x - x_2) \\, dx \\\\[5pt]\n",
    "& = \\frac{1}{(-h)(-2h)}\\int_{-h}^{h}\\, \\xi(\\xi - h) \\, d\\xi = \\ldots = \\frac{h}{3}.\n",
    "\\end{align*}\n",
    "\n",
    "Fill in the gaps and do the other integrals to complete the derivation."
   ]
  },
  {
   "cell_type": "markdown",
   "metadata": {},
   "source": [
    "## Homework - Open vs closed Newton-Cotes [$\\star$]\n",
    "\n",
    "Implement an open Newton-Cotes formula and use it to integrate $1/\\sqrt{x}$  from 0 to 1. \n",
    "\n",
    "**Hint:** Check the open formulae here <https://en.wikipedia.org/wiki/Newton%E2%80%93Cotes_formulas#Open_Newton%E2%80%93Cotes_formulas>.  My solution makes use of  Milne's rule which evaluates the function at the appropriate points within each sub-interval, and so uses more function evaluations for a given number of intervals compared to the composite version of Simpson's rule.\n",
    "\n",
    "Compare your solution with a closed scheme such as Simpson's, e.g. by recreating a convergence plot such as that presented in the Lecture.\n",
    "\n",
    "**Hint:**  Note that to avoid divide by zero warning you could define your integrand via something like:\n",
    "`lambda x: 1./(np.maximum(1e-16,np.sqrt(x)))`"
   ]
  },
  {
   "cell_type": "markdown",
   "metadata": {},
   "source": [
    "## Homework - Implement adaptive quadrature [$\\star\\star$]\n",
    "\n",
    "Based on the algorithm description from the lecture, try to implement an adaptive quadrature algorithm and apply it to our complicated function given in the following cell.\n",
    "\n",
    "**Hint:**  My function and docstring starts\n",
    "\n",
    "```Python\n",
    "def adaptive_simpson_recursive(a, b, function, tol, S):\n",
    "    \"\"\" S is a Simpson rule estimate of the integral over interval [a,b]\n",
    "    This function computes S2 by splitting the current interval in half \n",
    "    and evaluating Simpson's rule over each of the two resulting sub-intervals. \n",
    "    It then evaluates an estimate of the quadrature error over the interval as \n",
    "    (S2-S)/15, and if we have not yet reached the desired error tolerance it \n",
    "    divides the current interval [a,b] in two and applies the same function to \n",
    "    each half: [a,c] and [c,b]. \n",
    "    If an error tolerance has been reached it returns the Weddle estimate for\n",
    "    the integral over [a,b]: S2 + (S2 - S)/15.0.\n",
    "    The function recursively sums the result from each subinterval considered. \n",
    "    `locs' is a global variable that contains all the locations we evaluate the\n",
    "    function at.\n",
    "    \"\"\"\n",
    "```"
   ]
  },
  {
   "cell_type": "code",
   "execution_count": null,
   "metadata": {},
   "outputs": [],
   "source": [
    "# a more complex example (taken from Moin which quotes the exact integral as −0.56681975015)\n",
    "\n",
    "def f(x):\n",
    "    \"\"\"The function we wish to integrate.\n",
    "    \n",
    "    This a more complicated example which has been taken from the book by Moin.\n",
    "    \"\"\"\n",
    "    return (10*np.exp(-50*np.abs(x)) -\n",
    "            (0.01/(np.power(x-0.5, 2) + 0.001)) +\n",
    "            5*np.sin(5*x))\n",
    "\n",
    "# exact solution obtained with (si.quad(f, -1, 1, epsabs=1e-16))\n",
    "# NB. the \"exact\" value given in Moin only to 11 s.f.s: −0.56681975015\n",
    "I_exact = -0.5668197501529302"
   ]
  },
  {
   "cell_type": "markdown",
   "metadata": {},
   "source": [
    "## Homework - Implement a \"composite\" version of Gauss-Legendre quadrature [$\\star\\star$]\n",
    "\n",
    "Implement a \"composite\" version of Gauss-Legendre, i.e. split up the total interval into sub-intervals, apply Gauss-Legendre on each subinterval and sum.\n",
    "\n",
    "Compare this method, for differing degrees, against the composite Simpson rule for our $\\sin$ and more complex function we considered in lecture."
   ]
  }
 ],
 "metadata": {
  "celltoolbar": "Slideshow",
  "kernelspec": {
   "display_name": "Python 3",
   "language": "python",
   "name": "python3"
  },
  "language_info": {
   "codemirror_mode": {
    "name": "ipython",
    "version": 3
   },
   "file_extension": ".py",
   "mimetype": "text/x-python",
   "name": "python",
   "nbconvert_exporter": "python",
   "pygments_lexer": "ipython3",
   "version": "3.7.3"
  },
  "latex_envs": {
   "LaTeX_envs_menu_present": true,
   "autoclose": true,
   "autocomplete": true,
   "bibliofile": "biblio.bib",
   "cite_by": "apalike",
   "current_citInitial": 1,
   "eqLabelWithNumbers": true,
   "eqNumInitial": 1,
   "hotkeys": {
    "equation": "Ctrl-E",
    "itemize": "Ctrl-I"
   },
   "labels_anchors": false,
   "latex_user_defs": false,
   "report_style_numbering": false,
   "user_envs_cfg": true
  },
  "toc": {
   "base_numbering": 1,
   "nav_menu": {},
   "number_sections": true,
   "sideBar": true,
   "skip_h1_title": false,
   "title_cell": "Table of Contents",
   "title_sidebar": "Contents",
   "toc_cell": true,
   "toc_position": {
    "height": "calc(100% - 180px)",
    "left": "10px",
    "top": "150px",
    "width": "513px"
   },
   "toc_section_display": true,
   "toc_window_display": false
  }
 },
 "nbformat": 4,
 "nbformat_minor": 1
}
