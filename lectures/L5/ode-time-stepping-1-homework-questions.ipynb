{
 "cells": [
  {
   "cell_type": "markdown",
   "metadata": {
    "slideshow": {
     "slide_type": "-"
    }
   },
   "source": [
    "# ACSE-3 (Numerical Methods) <a class=\"tocSkip\">\n",
    "\n",
    "## Lecture 5: Time-stepping methods (numerical solution of IVPs) 1 <a class=\"tocSkip\">\n",
    "    \n",
    "### Homework Exercises <a class=\"tocSkip\">"
   ]
  },
  {
   "cell_type": "markdown",
   "metadata": {
    "toc": true
   },
   "source": [
    "<h1>Table of Contents<span class=\"tocSkip\"></span></h1>\n",
    "<div class=\"toc\"><ul class=\"toc-item\"><li><span><a href=\"#Homework\" data-toc-modified-id=\"Homework-1\"><span class=\"toc-item-num\">1&nbsp;&nbsp;</span>Homework</a></span><ul class=\"toc-item\"><li><span><a href=\"#Homework---Stability-of-forward-Euler-applied-to-the-MSD-problem\" data-toc-modified-id=\"Homework---Stability-of-forward-Euler-applied-to-the-MSD-problem-1.1\"><span class=\"toc-item-num\">1.1&nbsp;&nbsp;</span>Homework - Stability of forward Euler applied to the MSD problem</a></span></li><li><span><a href=\"#Homework---Implement-improved-Euler-and-compare-with-forward-Euler\" data-toc-modified-id=\"Homework---Implement-improved-Euler-and-compare-with-forward-Euler-1.2\"><span class=\"toc-item-num\">1.2&nbsp;&nbsp;</span>Homework - Implement improved Euler and compare with forward Euler</a></span></li><li><span><a href=\"#Homework---Lorenz-system\" data-toc-modified-id=\"Homework---Lorenz-system-1.3\"><span class=\"toc-item-num\">1.3&nbsp;&nbsp;</span>Homework - Lorenz system</a></span></li><li><span><a href=\"#Homework---Circular-orbits-[$\\star$]\" data-toc-modified-id=\"Homework---Circular-orbits-[$\\star$]-1.4\"><span class=\"toc-item-num\">1.4&nbsp;&nbsp;</span>Homework - Circular orbits [$\\star$]</a></span></li><li><span><a href=\"#Homework---Planetary-motion-(the-two-body-problem-or-Kepler's-problem)--[$\\star\\star$]\" data-toc-modified-id=\"Homework---Planetary-motion-(the-two-body-problem-or-Kepler's-problem)--[$\\star\\star$]-1.5\"><span class=\"toc-item-num\">1.5&nbsp;&nbsp;</span>Homework - Planetary motion (the two-body problem or Kepler's problem)  [$\\star\\star$]</a></span></li><li><span><a href=\"#Homework---A-ballistics-example-(the-shooting-method)--[$\\star\\star$]\" data-toc-modified-id=\"Homework---A-ballistics-example-(the-shooting-method)--[$\\star\\star$]-1.6\"><span class=\"toc-item-num\">1.6&nbsp;&nbsp;</span>Homework - A ballistics example (the shooting method)  [$\\star\\star$]</a></span></li></ul></li></ul></div>"
   ]
  },
  {
   "cell_type": "code",
   "execution_count": 1,
   "metadata": {
    "scrolled": false
   },
   "outputs": [],
   "source": [
    "%matplotlib inline\n",
    "import numpy as np\n",
    "import matplotlib.pyplot as plt\n",
    "# the following allows us to plot triangles indicating convergence order\n",
    "from mpltools import annotation\n",
    "\n",
    "from matplotlib import rcParams\n",
    "# font sizes for plots\n",
    "plt.rcParams['font.size'] = 12\n",
    "plt.rcParams['font.family'] = 'sans-serif'\n",
    "plt.rcParams['font.sans-serif'] = ['Arial', 'Dejavu Sans']"
   ]
  },
  {
   "cell_type": "markdown",
   "metadata": {},
   "source": [
    "# Homework"
   ]
  },
  {
   "cell_type": "markdown",
   "metadata": {},
   "source": [
    "## Homework - Stability of forward Euler applied to the MSD problem\n",
    "\n",
    "Implement a forward Euler time-stepping function.\n",
    "\n",
    "Hint:  your solution might look something like (you need to fill in some gaps):\n",
    "\n",
    "```Python\n",
    "def forward_euler(f, u0, t0, t_max, dt):\n",
    "    \"\"\" Forward Euler time-stepper.\n",
    "    f = f(t,y) is the RHS function.\n",
    "    u0 is the initial condition.\n",
    "    t0 is the initial time; t_max is the end time.\n",
    "    dt is the time step size.\n",
    "    \"\"\" \n",
    "    u = np.array(u0)\n",
    "    t = np.array(t0)\n",
    "    u_all = [u0]\n",
    "    t_all = [t0]\n",
    "    while t < t_max:\n",
    "        u = ........\n",
    "        u_all.append(u)\n",
    "        t = ........\n",
    "        t_all.append(t)\n",
    "    return np.array(u_all), np.array(t_all)\n",
    "```\n",
    "\n",
    "\n",
    "Run the forward Euler method on the MSD problem from class with the physical and numerical parameters considered in our stability analysis and plots in section 9.2, and plot the solutions obtained, confirming whether you see stability or instability behaviour which is consistent with our plots from the lecture which showed red dots wither being inside or outside the stability region."
   ]
  },
  {
   "cell_type": "markdown",
   "metadata": {},
   "source": [
    "## Homework - Implement improved Euler and compare with forward Euler\n",
    "\n",
    "Consider the simple scalar equation\n",
    "\n",
    "$$u'(t)=u,\\;\\;\\; u(0)=1\\,.$$\n",
    "\n",
    "Implement the forward Euler and improved Euler schemes and use them to approximate solutions of this equation for different values of $\\Delta t$. Plot the solutions over the time interval $[0, 2\\pi]$.\n",
    "\n",
    "Write a function `approx_error(f, u0, t0, t, h)` that returns the approximation error at a given time $t$ for both methods.\n",
    "\n",
    "Using a while loop, compute the error at $t=3$ for $\\Delta t$ from $1$ to $10^{-5}$, and plot it against $\\Delta t$ in logarithmic scale.\n",
    "\n",
    "Use `numpy.polyfit` to compute a line of best fit to the logs of the data and hence conclude the order of accuracy of both methods.\n",
    "\n",
    "You should observe that improved Euler is much better than forward Euler - plot the error as a function of time (suggest you use a semilogy in matplotlib to get a log axis on the $y$ axis, but plot the $x$ (time) axis normally. \n",
    "\n",
    "See if you can get [`scipy.integrate.odeint`](https://docs.scipy.org/doc/scipy/reference/generated/scipy.integrate.odeint.html) working for this problem and see how its errors compare as a function of time - hint: take note of the order that odeint assumes the function $f$ takes the arguments $t$ and $y$, you can pass the argument `tfirst=True` to tell it to assume an order consistent with what convention we assume."
   ]
  },
  {
   "cell_type": "markdown",
   "metadata": {},
   "source": [
    "## Homework - Lorenz system\n",
    "\n",
    "Recall the image at the beginning of the lecture.\n",
    "\n",
    "The [Lorenz System](https://en.wikipedia.org/wiki/Lorenz_system \"Lorenz system\") comprises three coupled ODEs:\n",
    "\n",
    "\\begin{align*}\n",
    "\\frac{dx}{dt} &= \\sigma (y - x), \\\\[5pt]\n",
    "\\frac{dy}{dt} &= x(\\rho - z) - y, \\\\[5pt]\n",
    "\\frac{dz}{dt} &= x  y - \\beta  z,\n",
    "\\end{align*}\n",
    "\n",
    "where typical values of the parameters (for a chaotic solution) are $\\rho = 28, \\, \\sigma = 10, \\, \\beta = 8/3$.\n",
    "\n",
    "Use forward Euler and improved Euler solvers to plot a solution trajectory - do you see qualitative differences between your trajectories with the two solvers.\n",
    "\n",
    "To check your answer (after you have attempted it please!), see [https://matplotlib.org/examples/mplot3d/lorenz_attractor.html](https://matplotlib.org/examples/mplot3d/lorenz_attractor.html).\n",
    "\n",
    "See also [https://en.wikipedia.org/wiki/Lorenz_system#Python_simulation](https://en.wikipedia.org/wiki/Lorenz_system#Python_simulation) for a solution that uses scipy's odeint function. \n",
    "\n",
    "\n",
    "Now use your forward Euler and improved Euler solvers to compute and plot the growth in 'error' as a function of time, where here we are defining 'error' to be the difference compared to a solution obtained with `odeint`. \n",
    "\n"
   ]
  },
  {
   "cell_type": "markdown",
   "metadata": {},
   "source": [
    "## Homework - Circular orbits [$\\star$]\n",
    "\n",
    "Consider the coupled problem\n",
    "\n",
    "\\begin{align*}\n",
    "\\dot{x} & = -y, \\\\[5pt] \n",
    "\\dot{y} & = x,\n",
    "\\end{align*} \n",
    "\n",
    "with initial conditions \n",
    "\n",
    "$$ x(0)=1,\\;\\;\\;\\; y(0)=0. $$\n",
    "\n",
    "We expect the solution (trajectory) to form a closed circle (why?  think simple harmonic motion).\n",
    "\n",
    "Solve this problem using forward Euler and Improved Euler and simulate several orbits, plotting the result in $(x,y)$ space. \n",
    "\n",
    "What do you observe about the qualitative solution behaviour?\n"
   ]
  },
  {
   "cell_type": "markdown",
   "metadata": {},
   "source": [
    "## Homework - Planetary motion (the two-body problem or Kepler's problem)  [$\\star\\star$]\n",
    "\n",
    "\n",
    "See here for an interesting paper on the use of ODE solvers to model the solar system which is then used to find the location of Neptune: <http://www.diva-portal.org/smash/get/diva2:1218549/FULLTEXT01.pdf>, and establish the chaotic nature of the solar system: <http://science.sciencemag.org/content/257/5066/56/tab-pdf>\n",
    "\n",
    "See also <https://www.annualreviews.org/doi/pdf/10.1146/annurev.earth.30.091201.140243>\n",
    "\n",
    "\n",
    "Consider the problem of two bodies attracting one another under the force of gravity. Choose one of the bodies as the centre of our frame of reference (think of this body as a star).  Then the motion of the second body (think of a planet or a comet) will be restricted to a two-dimensional plane and it common to denote the coordinate of its position using the notation $\\boldsymbol{q}=(q_1,q_2)^T$.\n",
    "\n",
    "By Newton's second law we can link the acceleration of the second body to the force (per unit mass) experienced on that body due to gravity:\n",
    "\n",
    "$$\\ddot{\\boldsymbol{q}} = -\\frac{K}{\\|\\boldsymbol{q}\\|^2}\\frac{\\boldsymbol{q}}{\\|\\boldsymbol{q}\\|}, $$\n",
    "\n",
    "where $K$ is the product of the star's mass and the gravitational constant. The division by $\\|\\boldsymbol{q}\\|^2$ emphasises that this is an ['inverse square law'](https://en.wikipedia.org/wiki/Inverse-square_law) problem; the ${q}/{\\|\\boldsymbol{q}\\|}$ term is a normalised direction, and the minus sign is due to this being a force of attraction.\n",
    "\n",
    "With a suitable nondimensionalisation of the problem we can actually just consider the ODE\n",
    "\n",
    "$$\\ddot{\\boldsymbol{q}} = -\\frac{\\boldsymbol{q}}{\\|\\boldsymbol{q}\\|^3}, $$\n",
    "\n",
    "or written out in full\n",
    "\n",
    "\\begin{align*}\n",
    "\\ddot{q_1} &= -\\frac{q_1}{(q_1^2 + q_2^2)^{3/2}},\\\\[5pt]\n",
    "\\ddot{q_2} &= -\\frac{q_2}{(q_1^2 + q_2^2)^{3/2}}. \n",
    "\\end{align*}\n",
    "\n",
    "We can turn this into the first-order system\n",
    "\n",
    "\\begin{align*}\n",
    "\\dot{q_1} &= p_1,\\\\[5pt]\n",
    "\\dot{q_2} &= p_2,\\\\[5pt]\n",
    "\\dot{p_1} &= -\\frac{q_1}{(q_1^2 + q_2^2)^{3/2}},\\\\[5pt]\n",
    "\\dot{p_2} &= -\\frac{q_2}{(q_1^2 + q_2^2)^{3/2}}. \n",
    "\\end{align*}\n",
    "\n",
    "\n",
    "For an orbit with eccentricity $e \\in [0,1)$ we can use initial conditions\n",
    "\n",
    "\\begin{align*}\n",
    "q_1(0) &= 1 - e, \\\\[5pt]\n",
    "q_2(0) &= 0, \\\\[5pt]\n",
    "p_1(0) &= 0, \\\\[5pt]\n",
    "q_2(0) &= \\left(\\frac{1 + e}{1 - e}\\right)^{1/2}.\n",
    "\\end{align*}\n",
    "\n",
    "With an eccentricity of zero we revert back to the circular orbit case above. With $e$ closer to 1 we get a more eccentric orbit.\n",
    "\n",
    "The period of an orbit should be $2\\pi$. Simulate this problem for 10 periods using forward and improved Euler and see what orbits you get. Suggest you test the eccentricity values 0.5 and 0.9.\n",
    "\n",
    "In this problem total energy (kinetic plus potential) should be conserved. Here this is given by\n",
    "\n",
    "$$H := \\frac{1}{2}\\|\\boldsymbol{p}\\|^2 - \\frac{1}{\\|\\boldsymbol{q}\\|}.$$\n",
    "\n",
    "Another conserved quantity is the angular momentum defined as\n",
    "\n",
    "$$L := q_1p_2 - q_2p_1. $$\n",
    "\n",
    "Compute and plot these for your solution and see how well this quantity is conserved by our solvers."
   ]
  },
  {
   "cell_type": "markdown",
   "metadata": {},
   "source": [
    "## Homework - A ballistics example (the shooting method)  [$\\star\\star$]\n",
    "\n",
    "Take a look at\n",
    "\n",
    "https://www.wired.com/2009/09/how-high-does-a-bullet-go/\n",
    "\n",
    "Suppose we fire a gun pointing straight up, assuming the bullet hits the ground 60 seconds later, how fast must it have been travelling when it left the gun?\n",
    "\n",
    "To solve this problem write an ODE solver to solve the problem\n",
    "\n",
    "$$ \\ddot{x} = -g, $$\n",
    "\n",
    "where $x$ here represents the height of the bullet as a function of time (so $\\ddot{x}$ is the bullet's acceleration), and $g$ is acceleration due to gravity. Your first task will be to turn this into a system of first order ODEs.\n",
    "\n",
    "I suggest you try using the SciPy solver [`scipy.integrate.solve_ivp`](https://docs.scipy.org/doc/scipy/reference/generated/scipy.integrate.solve_ivp.html) this time, and use it to integrate from time zero to 60s.  We want the bullet to be at a height of zero again at the final time.\n",
    "\n",
    "We are given the initial location of the bullet ($x(0)=0$), but not its initial velocity ($\\dot{x}(0)=$?). \n",
    "\n",
    "Starting from upper and lower guesses for the possible initial velocity of the bullet, \n",
    "use a bisection algorithm (lecture 4) to iterate towards the solution we desire (i.e. the initial velocity that means the bullet returns to the ground after 60s ($x(60)=0$).\n",
    "\n",
    "*Hint:* I make the answer 293 m/s.\n",
    "\n",
    "Note this is an example of a shooting method - rather than two initial conditions (for position and velocity) specified at the initial time, we are given two positions at two different times and our job is to find the missing initial condition (here the initial velocity).\n",
    "\n",
    "Note that you could extend this problem to add air resistance, and also turn this into a projectile problem where $t$ is replaced as the independent variable by horizontal distance $x$, and our job is to hit a target a certain distance away - what angle should we fire at?  \n",
    "\n",
    "If you're interested take a look at the MythBusters episode the above Wired article is motivate by."
   ]
  },
  {
   "cell_type": "code",
   "execution_count": 14,
   "metadata": {},
   "outputs": [
    {
     "data": {
      "image/jpeg": "[encoded data removed]",
      "text/html": [
       "\n",
       "        <iframe\n",
       "            width=\"400\"\n",
       "            height=\"300\"\n",
       "            src=\"https://www.youtube.com/embed/Vyc1Fu2yTpI\"\n",
       "            frameborder=\"0\"\n",
       "            allowfullscreen\n",
       "        ></iframe>\n",
       "        "
      ],
      "text/plain": [
       "<IPython.lib.display.YouTubeVideo at 0x14d764e8710>"
      ]
     },
     "execution_count": 14,
     "metadata": {},
     "output_type": "execute_result"
    }
   ],
   "source": [
    "from IPython.display import YouTubeVideo\n",
    "YouTubeVideo('Vyc1Fu2yTpI')"
   ]
  }
 ],
 "metadata": {
  "celltoolbar": "Slideshow",
  "kernelspec": {
   "display_name": "Python 3",
   "language": "python",
   "name": "python3"
  },
  "language_info": {
   "codemirror_mode": {
    "name": "ipython",
    "version": 3
   },
   "file_extension": ".py",
   "mimetype": "text/x-python",
   "name": "python",
   "nbconvert_exporter": "python",
   "pygments_lexer": "ipython3",
   "version": "3.7.3"
  },
  "latex_envs": {
   "LaTeX_envs_menu_present": true,
   "autoclose": true,
   "autocomplete": true,
   "bibliofile": "biblio.bib",
   "cite_by": "apalike",
   "current_citInitial": 1,
   "eqLabelWithNumbers": true,
   "eqNumInitial": 1,
   "hotkeys": {
    "equation": "Ctrl-E",
    "itemize": "Ctrl-I"
   },
   "labels_anchors": false,
   "latex_user_defs": false,
   "report_style_numbering": false,
   "user_envs_cfg": true
  },
  "toc": {
   "base_numbering": 1,
   "nav_menu": {},
   "number_sections": true,
   "sideBar": true,
   "skip_h1_title": false,
   "title_cell": "Table of Contents",
   "title_sidebar": "Contents",
   "toc_cell": true,
   "toc_position": {},
   "toc_section_display": true,
   "toc_window_display": false
  }
 },
 "nbformat": 4,
 "nbformat_minor": 1
}
