{
 "cells": [
  {
   "cell_type": "markdown",
   "metadata": {
    "slideshow": {
     "slide_type": "slide"
    }
   },
   "source": [
    "# ACSE-3 (Numerical Methods) <a class=\"tocSkip\">\n",
    "\n",
    "## Lecture 7: Numerical Differentiation & Boundary Value Problems (BVPs) <a class=\"tocSkip\">\n",
    "    \n",
    "### Homework Exercises <a class=\"tocSkip\">"
   ]
  },
  {
   "cell_type": "markdown",
   "metadata": {
    "toc": true
   },
   "source": [
    "<h1>Table of Contents<span class=\"tocSkip\"></span></h1>\n",
    "<div class=\"toc\"><ul class=\"toc-item\"><li><span><a href=\"#Homework\" data-toc-modified-id=\"Homework-1\"><span class=\"toc-item-num\">1&nbsp;&nbsp;</span>Homework</a></span><ul class=\"toc-item\"><li><span><a href=\"#Homework---Taylor-series\" data-toc-modified-id=\"Homework---Taylor-series-1.1\"><span class=\"toc-item-num\">1.1&nbsp;&nbsp;</span>Homework - Taylor series</a></span><ul class=\"toc-item\"><li><span><a href=\"#Solution---Taylor-series\" data-toc-modified-id=\"Solution---Taylor-series-1.1.1\"><span class=\"toc-item-num\">1.1.1&nbsp;&nbsp;</span>Solution - Taylor series</a></span></li></ul></li><li><span><a href=\"#Homework---Upwind-vs-central-discretrisation\" data-toc-modified-id=\"Homework---Upwind-vs-central-discretrisation-1.2\"><span class=\"toc-item-num\">1.2&nbsp;&nbsp;</span>Homework - Upwind vs central discretrisation</a></span><ul class=\"toc-item\"><li><span><a href=\"#Solution---Upwind-vs-central-discretrisation\" data-toc-modified-id=\"Solution---Upwind-vs-central-discretrisation-1.2.1\"><span class=\"toc-item-num\">1.2.1&nbsp;&nbsp;</span>Solution - Upwind vs central discretrisation</a></span></li></ul></li><li><span><a href=\"#Homework---Larger-stencils-/-higher-orders-of-accuracy-[$\\star\\star$]\" data-toc-modified-id=\"Homework---Larger-stencils-/-higher-orders-of-accuracy-[$\\star\\star$]-1.3\"><span class=\"toc-item-num\">1.3&nbsp;&nbsp;</span>Homework - Larger stencils / higher orders of accuracy [$\\star\\star$]</a></span><ul class=\"toc-item\"><li><span><a href=\"#Solution---Larger-stencils-/-higher-orders-of-accuracy\" data-toc-modified-id=\"Solution---Larger-stencils-/-higher-orders-of-accuracy-1.3.1\"><span class=\"toc-item-num\">1.3.1&nbsp;&nbsp;</span>Solution - Larger stencils / higher orders of accuracy</a></span></li></ul></li><li><span><a href=\"#Homework---Shooting-method-to-solve-BVPs-(or-IVP-solve-+-root-finding)---pure-diffusion-case-[$\\star$]\" data-toc-modified-id=\"Homework---Shooting-method-to-solve-BVPs-(or-IVP-solve-+-root-finding)---pure-diffusion-case-[$\\star$]-1.4\"><span class=\"toc-item-num\">1.4&nbsp;&nbsp;</span>Homework - Shooting method to solve BVPs (or IVP solve + root finding) - pure diffusion case [$\\star$]</a></span><ul class=\"toc-item\"><li><span><a href=\"#Solution---Shooting-method-to-solve-BVPs-(or-IVP-solve-+-root-finding)---pure-diffusion-case\" data-toc-modified-id=\"Solution---Shooting-method-to-solve-BVPs-(or-IVP-solve-+-root-finding)---pure-diffusion-case-1.4.1\"><span class=\"toc-item-num\">1.4.1&nbsp;&nbsp;</span>Solution - Shooting method to solve BVPs (or IVP solve + root finding) - pure diffusion case</a></span></li></ul></li><li><span><a href=\"#Homework---Shooting-method-to-solve-BVPs-(or-IVP-solve-+-root-finding)---advection-diffusion-case-[$\\star$]\" data-toc-modified-id=\"Homework---Shooting-method-to-solve-BVPs-(or-IVP-solve-+-root-finding)---advection-diffusion-case-[$\\star$]-1.5\"><span class=\"toc-item-num\">1.5&nbsp;&nbsp;</span>Homework - Shooting method to solve BVPs (or IVP solve + root finding) - advection-diffusion case [$\\star$]</a></span><ul class=\"toc-item\"><li><span><a href=\"#Solution---Shooting-method-to-solve-BVPs-(or-IVP-solve-+-root-finding)---advection-diffusion-case\" data-toc-modified-id=\"Solution---Shooting-method-to-solve-BVPs-(or-IVP-solve-+-root-finding)---advection-diffusion-case-1.5.1\"><span class=\"toc-item-num\">1.5.1&nbsp;&nbsp;</span>Solution - Shooting method to solve BVPs (or IVP solve + root finding) - advection-diffusion case</a></span></li></ul></li><li><span><a href=\"#Homework---Sparse-matrices-&amp;-Iterative-solvers-[$\\star\\star$]\" data-toc-modified-id=\"Homework---Sparse-matrices-&amp;-Iterative-solvers-[$\\star\\star$]-1.6\"><span class=\"toc-item-num\">1.6&nbsp;&nbsp;</span>Homework - Sparse matrices &amp; Iterative solvers [$\\star\\star$]</a></span><ul class=\"toc-item\"><li><span><a href=\"#Solutions---Sparse-matrices-&amp;-Iterative-solvers\" data-toc-modified-id=\"Solutions---Sparse-matrices-&amp;-Iterative-solvers-1.6.1\"><span class=\"toc-item-num\">1.6.1&nbsp;&nbsp;</span>Solutions - Sparse matrices &amp; Iterative solvers</a></span></li></ul></li></ul></li></ul></div>"
   ]
  },
  {
   "cell_type": "code",
   "execution_count": 1,
   "metadata": {
    "scrolled": false
   },
   "outputs": [],
   "source": [
    "%matplotlib inline\n",
    "import numpy as np\n",
    "import scipy.linalg as sl\n",
    "# we'll start using sparse matrices here\n",
    "import scipy.sparse as sp\n",
    "# and linear algebra functions designed for sparse matrices\n",
    "import scipy.sparse.linalg as spla\n",
    "import matplotlib.pyplot as plt\n",
    "# the following allows us to plot triangles indicating convergence order\n",
    "from mpltools import annotation\n",
    "\n",
    "# font sizes for plots\n",
    "plt.rcParams['font.size'] = 12\n",
    "plt.rcParams['font.family'] = 'sans-serif'\n",
    "plt.rcParams['font.sans-serif'] = ['Arial', 'Dejavu Sans']"
   ]
  },
  {
   "cell_type": "markdown",
   "metadata": {},
   "source": [
    "# Homework"
   ]
  },
  {
   "cell_type": "markdown",
   "metadata": {},
   "source": [
    "## Homework - Taylor series\n",
    "\n",
    "[This is a repeat of a question from ACSE-2, in case you didn't get around to it then].\n",
    "\n",
    "We saw an [animated gif from Wikipedia](https://en.wikipedia.org/wiki/Taylor_series#/media/File:Exp_series.gif) at the start of the lecture for how the Taylor series approximation to the exponential function, around the point $x=0$, more closely resembles the exponential function over the domain $[-3,3]$ as more terms are included in the expansion.\n",
    "\n",
    "Write a script which computes and plots this approximation for increasing numbers of terms in the expansion (essentially recreating that animation - but a static image will be fine).\n",
    "\n",
    "Plot the convergence of the RMS (root mean square) error computed with 1000 points over the interval $[-3,3]$ with number of terms.\n",
    "\n",
    "Hint: since the derivative of $\\exp(x)$ is also $\\exp(x)$, you can re-use a single function for all the derivatives you require int he Taylor series expansion."
   ]
  },
  {
   "cell_type": "markdown",
   "metadata": {},
   "source": [
    "## Homework - Upwind vs central discretrisation\n",
    "\n",
    "Use our codes `BVP_AD_central` and `BVP_AD_upwind` to compute and plot error convergence for these two schemes for our test problem from the lecture with a Peclet number of 10.\n",
    "    \n",
    "Hence, establish that even though the upwind scheme is coupled with a second-order scheme for diffusion, it is the first-order contribution to the overall error which ultimately dominates and so the overall scheme is only first-order accurate.\n"
   ]
  },
  {
   "cell_type": "markdown",
   "metadata": {},
   "source": [
    "## Homework - Larger stencils / higher orders of accuracy [$\\star\\star$]\n",
    "\n",
    "We saw in the lecture first- and second-order approximations to the first derivative.\n",
    "\n",
    "By making use of more points (expanding the stencil) it is possible to come up with approximations of arbitrary order.\n",
    "\n",
    "Tables of coefficients, assuming a uniform mesh, can be found at:\n",
    "<https://en.wikipedia.org/wiki/Finite_difference_coefficient>\n",
    "\n",
    "Try expanding our example from the lecture where we computed the first derivative of $\\sin(x)$ at the location $x=0.8$ and plotted the error as a function of $\\Delta x$, with some other examples of finite difference stencils from the tables at that web page.\n",
    "\n",
    "[NB. the part of the question above is quite simple - in the sample solution I demonstrate an implementation of the third order accurate scheme; the part of the question below is more complicated].\n",
    "\n",
    "Note that in the section of that web page titled \"Arbitrary stencil points\" it also gives a matrix system which can be solved for the finite difference coefficients which provides an approximation of arbitrary order derivatices on an arbitrary stencil. \n",
    "\n",
    "For a more in-depth description and derivation take a look at: <http://web.media.mit.edu/~crtaylor/calculator.html>\n",
    "(click on \"How does it work?\").\n",
    "\n",
    "Write some code to construct and solve this matrix system, and hence extend the convergence plot we presented above for the first derivative of $\\sin(x)$ and $x=0.8$ for orders 1-6."
   ]
  },
  {
   "cell_type": "markdown",
   "metadata": {},
   "source": [
    "## Homework - Shooting method to solve BVPs (or IVP solve + root finding) - pure diffusion case [$\\star$]\n",
    "\n",
    "Recall the BVP obtained from considering the steady state solution to the diffusion problem in 1D with Dirichlet BCs specified at the two ends of the domain:\n",
    "\n",
    "$$\\kappa\\frac{\\partial^2 c}{\\partial x^2}=0, \\;\\;\\;\\; c(0) = 0, \\;\\;\\;\\; c(1)=1.$$\n",
    "\n",
    "First remind yourself of the exact solution to the problem and plot the numerical solution obtained from discretising the problem using central differences and solving the resulting linear matrix system (we did this in the lecture)."
   ]
  },
  {
   "cell_type": "markdown",
   "metadata": {},
   "source": [
    "Once you've done this let's try to solve this problem using a *shooting method* instead (we already saw an example of this in the LEcture 5 homework).\n",
    "\n",
    "First note that we can rewrite our second-order problem in the form of two coupled first-order ODEs\n",
    "\n",
    "$$\n",
    "\\boldsymbol{u}_x \n",
    "= \n",
    "\\begin{bmatrix} \n",
    "u_2 \\\\ \n",
    "0 \n",
    "\\end{bmatrix}\n",
    "$$\n",
    "\n",
    "where \n",
    "\n",
    "$$\n",
    "\\boldsymbol{u} \n",
    "\\equiv\n",
    "\\begin{bmatrix} \n",
    "u_1 \\\\ \n",
    "u_2 \n",
    "\\end{bmatrix}\n",
    "= \n",
    "\\begin{bmatrix} \n",
    "c \\\\ \n",
    "c_x \n",
    "\\end{bmatrix}\n",
    "$$\n",
    "\n",
    "We are going to solve this problem as an IVP from $x=0$ up to $x=L$ (thinking of $x$ as a time like variable).\n",
    "\n",
    "An IVP specified all auxiliary conditions as the same location (at the initial \"time\", or here at $x=0$).\n",
    "\n",
    "We know that $c(0)=0$ and hence $u_1(0)=0$, but what do we take for $u_2(0)$?\n",
    "\n",
    "The idea behind the shooting method is to try (i.e. solve the \"IVP\" for) different values of $u_2(0)$, iterating until we find a solution which achieves our additional condition - here that $u_1(1)=1$. In practice we iterate until we reach this goal to a user-defined tolerance."
   ]
  },
  {
   "cell_type": "markdown",
   "metadata": {},
   "source": [
    "## Homework - Shooting method to solve BVPs (or IVP solve + root finding) - advection-diffusion case [$\\star$]\n",
    "\n",
    "Consider now the advection-diffusion problem\n",
    "\n",
    "$$U\\frac{\\partial c}{\\partial x} = \\kappa\\frac{\\partial^2 c}{\\partial x^2}, \\;\\;\\;\\; c(0) = 0, \\;\\;\\;\\; c(1)=1 $$\n",
    "\n",
    "We can write this as two coupled first-order ODEs\n",
    "\n",
    "$$\n",
    "\\boldsymbol{u}_x \n",
    "= \n",
    "\\begin{bmatrix} \n",
    "u_2 \\\\ \n",
    "\\frac{U}{\\kappa}u_2 \n",
    "\\end{bmatrix}\n",
    "$$\n",
    "\n",
    "where \n",
    "\n",
    "$$\n",
    "\\boldsymbol{u} \n",
    "\\equiv\n",
    "\\begin{bmatrix} \n",
    "u_1 \\\\ \n",
    "u_2 \n",
    "\\end{bmatrix}\n",
    "= \n",
    "\\begin{bmatrix} \n",
    "c \\\\ \n",
    "c_x \n",
    "\\end{bmatrix}\n",
    "$$\n",
    "\n",
    "Again, we are going to solve this problem as an IVP from $x=0$ up to $x=1$ with $u_1(0)=0$, but $u_2(0)$ unknown."
   ]
  },
  {
   "cell_type": "markdown",
   "metadata": {},
   "source": [
    "## Homework - Sparse matrices & Iterative solvers [$\\star\\star$]\n",
    "\n",
    "As we noted in lecture 3 at some point our problems become large enough that we need to use iterative rather than direct linear solvers.\n",
    "\n",
    "Let's see what happens when we try to use iterative matrix solvers to invert our discretisation matrix.\n",
    "\n",
    "Update our `BVP_AD_central` function so that it now also returns the $A$ matrix and RHS $\\boldsymbol{b}$ vector.\n",
    "\n",
    "\n",
    "- Check whether the discretisation matrix is symmetric or not.\n",
    "\n",
    "\n",
    "- Solve the system using one of our direct solvers from L3, e.g. `np.linalg.solve`.\n",
    "\n",
    "\n",
    "- Recall we said in L3 that the conjugate gradient matrix only works for positive definite matrices. Solve our problem using the CG method and check whether the solution you obtain agrees with the solution from the direct solver.\n",
    "\n",
    "\n",
    "- GMRES is an alternative iterative solver that does work with nonsymmetric matrices. Solve our problem with GMRES and check whether this solution agrees with the direct solver.\n"
   ]
  }
 ],
 "metadata": {
  "celltoolbar": "Slideshow",
  "kernelspec": {
   "display_name": "Python 3",
   "language": "python",
   "name": "python3"
  },
  "language_info": {
   "codemirror_mode": {
    "name": "ipython",
    "version": 3
   },
   "file_extension": ".py",
   "mimetype": "text/x-python",
   "name": "python",
   "nbconvert_exporter": "python",
   "pygments_lexer": "ipython3",
   "version": "3.7.3"
  },
  "latex_envs": {
   "LaTeX_envs_menu_present": true,
   "autoclose": false,
   "autocomplete": true,
   "bibliofile": "biblio.bib",
   "cite_by": "apalike",
   "current_citInitial": 1,
   "eqLabelWithNumbers": true,
   "eqNumInitial": 1,
   "hotkeys": {
    "equation": "Ctrl-E",
    "itemize": "Ctrl-I"
   },
   "labels_anchors": false,
   "latex_user_defs": false,
   "report_style_numbering": false,
   "user_envs_cfg": false
  },
  "toc": {
   "base_numbering": 1,
   "nav_menu": {},
   "number_sections": true,
   "sideBar": true,
   "skip_h1_title": false,
   "title_cell": "Table of Contents",
   "title_sidebar": "Contents",
   "toc_cell": true,
   "toc_position": {},
   "toc_section_display": true,
   "toc_window_display": false
  }
 },
 "nbformat": 4,
 "nbformat_minor": 1
}
